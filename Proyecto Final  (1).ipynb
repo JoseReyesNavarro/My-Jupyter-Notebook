{
  "metadata": {
    "language_info": {
      "codemirror_mode": {
        "name": "python",
        "version": 3
      },
      "file_extension": ".py",
      "mimetype": "text/x-python",
      "name": "python",
      "nbconvert_exporter": "python",
      "pygments_lexer": "ipython3",
      "version": "3.8"
    },
    "kernelspec": {
      "name": "python",
      "display_name": "Pyolite",
      "language": "python"
    }
  },
  "nbformat_minor": 4,
  "nbformat": 4,
  "cells": [
    {
      "cell_type": "markdown",
      "source": "# My Jupyter Notebook on IBM Watson Studio",
      "metadata": {
        "jp-MarkdownHeadingCollapsed": true,
        "tags": []
      }
    },
    {
      "cell_type": "markdown",
      "source": "**Jose Reyes Navarro Puentes**\nOcupación actual: Ingeniero en Computación\nExperiencia laboral: Ingeniero de NOC en Megacable y soporte técnico en otras empresas",
      "metadata": {}
    },
    {
      "cell_type": "markdown",
      "source": "*Estoy interesado en la Data Science porque me apasiona descubrir conocimientos ocultos en grandes volúmenes de datos y transformarlos en información valiosa para la toma de decisiones profecional y laboral*\n",
      "metadata": {}
    },
    {
      "cell_type": "markdown",
      "source": "### Descripción del código en la Celda 5: Se realiza una operación matemática simple.\n",
      "metadata": {}
    },
    {
      "cell_type": "code",
      "source": "10 + 12",
      "metadata": {
        "trusted": true
      },
      "execution_count": 6,
      "outputs": [
        {
          "execution_count": 6,
          "output_type": "execute_result",
          "data": {
            "text/plain": "22"
          },
          "metadata": {}
        }
      ]
    },
    {
      "cell_type": "markdown",
      "source": "\n<ol>\n    <li>Word</li>\n    <li>Excel</li>\n    <li>PowerPoint</li>\n    <li>PowerBE</li>\n",
      "metadata": {}
    },
    {
      "cell_type": "markdown",
      "source": "<table>\n  <tr>\n    <th>Nombre</th>\n    <th>Edad</th>\n    <th>Estudio</th>\n  </tr>\n  <tr>\n    <td>Jose</td>\n    <td>20</td>\n    <td>Ing. Computación</td>\n  </tr>\n</table>",
      "metadata": {}
    },
    {
      "cell_type": "markdown",
      "source": "___\n\n   - Introducción al Análisis de Datos 1\n   - ¿Qué es la Ciencia de Datos? 2\n   - Herramientas para la Ciencia de Datos 3\n   - Metodología para la Ciencia de Datos 4\n \n\n___",
      "metadata": {}
    },
    {
      "cell_type": "markdown",
      "source": "<a href=\"https://openai.com\">Ir a OpenAI</a>",
      "metadata": {}
    }
  ]
}